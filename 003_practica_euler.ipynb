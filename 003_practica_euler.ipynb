{
  "nbformat": 4,
  "nbformat_minor": 0,
  "metadata": {
    "colab": {
      "name": "003_practica_euler.ipynb",
      "provenance": [],
      "authorship_tag": "ABX9TyMfRbJYFhG3yLA4NM6FiDFz",
      "include_colab_link": true
    },
    "kernelspec": {
      "name": "python3",
      "display_name": "Python 3"
    },
    "language_info": {
      "name": "python"
    }
  },
  "cells": [
    {
      "cell_type": "markdown",
      "metadata": {
        "id": "view-in-github",
        "colab_type": "text"
      },
      "source": [
        "<a href=\"https://colab.research.google.com/github/zs10011598/tmII-2022-II/blob/main/003_practica_euler.ipynb\" target=\"_parent\"><img src=\"https://colab.research.google.com/assets/colab-badge.svg\" alt=\"Open In Colab\"/></a>"
      ]
    },
    {
      "cell_type": "code",
      "source": [
        "import numpy as np\n",
        "import matplotlib.pyplot as plt"
      ],
      "metadata": {
        "id": "lyp5QXCsd2zj"
      },
      "execution_count": 1,
      "outputs": []
    },
    {
      "cell_type": "markdown",
      "source": [
        "$\\frac{d y}{d t} = -y, \\ \\ \\ t \\in \\left[0, 2\\right]$ con condicion inicial $ \\ \\ y(t=0)=1$\n",
        "\n",
        "como sabemos la solucion analitica es\n",
        "\n",
        "$y = e^{-t}$"
      ],
      "metadata": {
        "id": "NjjSlpDBeA2R"
      }
    },
    {
      "cell_type": "code",
      "execution_count": 8,
      "metadata": {
        "colab": {
          "base_uri": "https://localhost:8080/",
          "height": 282
        },
        "id": "xLjrR3CFdqxB",
        "outputId": "6baf7d7c-d37a-4ed4-fd82-130e463e8cc4"
      },
      "outputs": [
        {
          "output_type": "execute_result",
          "data": {
            "text/plain": [
              "[<matplotlib.lines.Line2D at 0x7fe797ef7810>]"
            ]
          },
          "metadata": {},
          "execution_count": 8
        },
        {
          "output_type": "display_data",
          "data": {
            "text/plain": [
              "<Figure size 432x288 with 1 Axes>"
            ],
            "image/png": "[encoded data removed]"
          },
          "metadata": {
            "needs_background": "light"
          }
        }
      ],
      "source": [
        "t0 = 0                               # condicion incial\n",
        "y0 = 1                               # condicion incial\n",
        "tN = 2                               # tiempo final\n",
        "\n",
        "yn = []                              # array para valores de y aproximados\n",
        "tn = []                              # array para particion en el tiempo\n",
        "\n",
        "y = y0                               # se inicializa y\n",
        "t = t0                               # se inicializa t\n",
        "\n",
        "yn.append(y)                         # se agrega y al array de valores\n",
        "tn.append(t)                         # se agrega t al array de la particion\n",
        "\n",
        "dt = 0.5                             # se define el espacio entre puntos\n",
        "N = int(tN/dt)                       # se calcula el numero de puntos\n",
        "\n",
        "for n in range(N):                   \n",
        "  y = y - dt*y                       # actualizacion de y\n",
        "  t = t + dt                         # actualizacion de t\n",
        "  yn.append(y)                        \n",
        "  tn.append(t)                       \n",
        "\n",
        "t = np.linspace(t0, tN, 100)         # se calcula solucion analitica\n",
        "y = np.exp(-t)                       # se calcula solucion analitica\n",
        "\n",
        "fig, ax = plt.subplots()             # se crea la figura\n",
        "ax.plot(tn, yn)                      # se grafica lo calculado\n",
        "ax.plot(t, y)                        # se grafica la solucion analitica"
      ]
    },
    {
      "cell_type": "code",
      "source": [
        ""
      ],
      "metadata": {
        "id": "Ij9gm33kgb8j"
      },
      "execution_count": 5,
      "outputs": []
    }
  ]
}