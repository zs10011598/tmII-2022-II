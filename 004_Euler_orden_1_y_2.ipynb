{
  "nbformat": 4,
  "nbformat_minor": 0,
  "metadata": {
    "colab": {
      "name": "004_Euler_orden_1_y_2.ipynb",
      "provenance": [],
      "collapsed_sections": [],
      "authorship_tag": "ABX9TyP4dHoqnkHp3heg2j+IDWh6",
      "include_colab_link": true
    },
    "kernelspec": {
      "name": "python3",
      "display_name": "Python 3"
    },
    "language_info": {
      "name": "python"
    }
  },
  "cells": [
    {
      "cell_type": "markdown",
      "metadata": {
        "id": "view-in-github",
        "colab_type": "text"
      },
      "source": [
        "<a href=\"https://colab.research.google.com/github/zs10011598/tmII-2022-II/blob/main/004_Euler_orden_1_y_2.ipynb\" target=\"_parent\"><img src=\"https://colab.research.google.com/assets/colab-badge.svg\" alt=\"Open In Colab\"/></a>"
      ]
    },
    {
      "cell_type": "code",
      "execution_count": 2,
      "metadata": {
        "id": "zkk9TFzEGv_f"
      },
      "outputs": [],
      "source": [
        "import numpy as np\n",
        "import matplotlib.pyplot as plt"
      ]
    },
    {
      "cell_type": "markdown",
      "source": [
        "Grafica de $y(t)=e^{-t}$"
      ],
      "metadata": {
        "id": "FW0_cIvJMZQC"
      }
    },
    {
      "cell_type": "code",
      "source": [
        "t = np.linspace(0, 2, 10)\n",
        "y = np.exp(-t)\n",
        "\n",
        "fig, ax = plt.subplots()\n",
        "\n",
        "ax.scatter(t, y) # aproximacion de y"
      ],
      "metadata": {
        "colab": {
          "base_uri": "https://localhost:8080/",
          "height": 283
        },
        "id": "WV3IuMQrMR1x",
        "outputId": "42c3c831-15dd-4458-d5c9-7feea4d388ac"
      },
      "execution_count": 9,
      "outputs": [
        {
          "output_type": "execute_result",
          "data": {
            "text/plain": [
              "<matplotlib.collections.PathCollection at 0x7f018986e150>"
            ]
          },
          "metadata": {},
          "execution_count": 9
        },
        {
          "output_type": "display_data",
          "data": {
            "text/plain": [
              "<Figure size 432x288 with 1 Axes>"
            ],
            "image/png": "[encoded data removed]"
          },
          "metadata": {
            "needs_background": "light"
          }
        }
      ]
    },
    {
      "cell_type": "markdown",
      "source": [
        "Derivada discreta"
      ],
      "metadata": {
        "id": "5bMLzC4eOW60"
      }
    },
    {
      "cell_type": "code",
      "source": [
        "def dydt(ta, tb, ya, yb):\n",
        "  return (yb - ya)/(tb - ta)"
      ],
      "metadata": {
        "id": "Up7JSYOMNE6A"
      },
      "execution_count": 10,
      "outputs": []
    },
    {
      "cell_type": "markdown",
      "source": [
        "Tomando los puntos de la particion `t[3]` y `t[4]`, la recta $l$ que pasa por ellos tiene como pendiente la derivada discreta"
      ],
      "metadata": {
        "id": "RdT05jLfPASH"
      }
    },
    {
      "cell_type": "code",
      "source": [
        "m = dydt(t[3], t[4], y[3], y[4])\n",
        "l = m*(t - t[3]) + y[3]"
      ],
      "metadata": {
        "id": "oZ2TCfGDOipq"
      },
      "execution_count": 14,
      "outputs": []
    },
    {
      "cell_type": "code",
      "source": [
        "fig, ax = plt.subplots()\n",
        "\n",
        "ax.scatter(t, y)\n",
        "ax.plot(t, l, color='red')"
      ],
      "metadata": {
        "colab": {
          "base_uri": "https://localhost:8080/",
          "height": 283
        },
        "id": "IZ2Z9O7zPraJ",
        "outputId": "688f3c76-fa83-4388-8eb4-4d240bc4b299"
      },
      "execution_count": 15,
      "outputs": [
        {
          "output_type": "execute_result",
          "data": {
            "text/plain": [
              "[<matplotlib.lines.Line2D at 0x7f01815cb190>]"
            ]
          },
          "metadata": {},
          "execution_count": 15
        },
        {
          "output_type": "display_data",
          "data": {
            "text/plain": [
              "<Figure size 432x288 with 1 Axes>"
            ],
            "image/png": "[encoded data removed]"
          },
          "metadata": {
            "needs_background": "light"
          }
        }
      ]
    },
    {
      "cell_type": "markdown",
      "source": [
        "Metodo de Euler aplicado al sistema $\\frac{dy}{dt}=-y$, en el intervalo $[0, 2]$ con condicion inicial $y(0)=1$"
      ],
      "metadata": {
        "id": "TFk8UwlITu8O"
      }
    },
    {
      "cell_type": "code",
      "source": [
        "# condicion incial\n",
        "t0 = 0\n",
        "y0 = 1\n",
        "tN = 2\n",
        "\n",
        "# arreglos para poner los puntos de la grafica\n",
        "ti = []\n",
        "yi = []\n",
        "\n",
        "# se inicialza la iteracion\n",
        "y = y0\n",
        "yi.append(y0)\n",
        "t = t0\n",
        "ti.append(t)\n",
        "\n",
        "# definimos cambio en el tiempo \n",
        "dt = 0.5\n",
        "N = int((tN-t0)/dt)\n",
        "\n",
        "# se calculan las imagenes de la particion bajo la solucion de la ecuacion\n",
        "for i in range(N):\n",
        "  dy = -y\n",
        "  y = y + dt*dy\n",
        "  t = t + dt\n",
        "  ti.append(t)\n",
        "  yi.append(y)\n",
        "\n",
        "# calculamos los puntos de la solucion real\n",
        "t = np.linspace(0, 2, 100)\n",
        "y = np.exp(-t)\n",
        "\n",
        "fig, ax = plt.subplots()\n",
        "\n",
        "# se grafica la  funcion aproximada\n",
        "ax.plot(ti, yi, color='red')\n",
        "\n",
        "#se grafica la solucion real\n",
        "ax.plot(t, y, color='blue')"
      ],
      "metadata": {
        "colab": {
          "base_uri": "https://localhost:8080/",
          "height": 283
        },
        "id": "6Hw-Ilp_QAJ2",
        "outputId": "c9fd0ca9-c622-4ae1-85e3-18f611369a56"
      },
      "execution_count": 22,
      "outputs": [
        {
          "output_type": "execute_result",
          "data": {
            "text/plain": [
              "[<matplotlib.lines.Line2D at 0x7f018126d350>]"
            ]
          },
          "metadata": {},
          "execution_count": 22
        },
        {
          "output_type": "display_data",
          "data": {
            "text/plain": [
              "<Figure size 432x288 with 1 Axes>"
            ],
            "image/png": "[encoded data removed]"
          },
          "metadata": {
            "needs_background": "light"
          }
        }
      ]
    },
    {
      "cell_type": "markdown",
      "source": [
        "El metodo de Euler aplicado al $\\ \\ \\frac{dy^2}{d^2t} - \\frac{dy}{dt} + 3y = t$, $ \\ \\ y(0)=1$, $\\ \\ \\frac{dy}{dt}|_{t=0}=-2$"
      ],
      "metadata": {
        "id": "8ZUJ2a6Maqfg"
      }
    },
    {
      "cell_type": "code",
      "source": [
        "t0 = 0\n",
        "tN = 4\n",
        "Y0 = np.array([1, -2])\n",
        "\n",
        "yn = []\n",
        "tn = []\n",
        "\n",
        "t = t0\n",
        "tn.append(t)\n",
        "Y = Y0.copy()\n",
        "yn.append(Y[0])\n",
        "\n",
        "dt = 0.1\n",
        "N = int(tN/dt)\n",
        "\n",
        "for n in range(N):\n",
        "  DY = np.array([Y[1], Y[1] - 3*Y[0] + t])\n",
        "  Y = Y + DY*dt\n",
        "  t = t + dt\n",
        "  tn.append(t)\n",
        "  yn.append(Y[0])\n",
        "\n",
        "fig, ax = plt.subplots()\n",
        "\n",
        "ax.plot(tn, yn)\n"
      ],
      "metadata": {
        "colab": {
          "base_uri": "https://localhost:8080/",
          "height": 283
        },
        "id": "nl9ZjnEyXO5x",
        "outputId": "f9848313-3de4-47bd-b893-3f9bcbd998a7"
      },
      "execution_count": 23,
      "outputs": [
        {
          "output_type": "execute_result",
          "data": {
            "text/plain": [
              "[<matplotlib.lines.Line2D at 0x7f01811e8090>]"
            ]
          },
          "metadata": {},
          "execution_count": 23
        },
        {
          "output_type": "display_data",
          "data": {
            "text/plain": [
              "<Figure size 432x288 with 1 Axes>"
            ],
            "image/png": "[encoded data removed]"
          },
          "metadata": {
            "needs_background": "light"
          }
        }
      ]
    },
    {
      "cell_type": "code",
      "source": [
        ""
      ],
      "metadata": {
        "id": "LBL6oRcLb8OJ"
      },
      "execution_count": null,
      "outputs": []
    }
  ]
}